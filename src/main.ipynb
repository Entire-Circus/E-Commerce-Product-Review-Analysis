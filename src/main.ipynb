{
 "cells": [
  {
   "cell_type": "code",
   "execution_count": 1,
   "id": "d78df068",
   "metadata": {},
   "outputs": [],
   "source": [
    "import sqlite3\n",
    "import pandas as pd\n",
    "import numpy as np\n",
    "import seaborn as sns\n",
    "import matplotlib.pyplot as plt\n",
    "import plotly.io as pio\n",
    "import vizro.plotly.express as px"
   ]
  },
  {
   "cell_type": "code",
   "execution_count": 2,
   "id": "155640f5",
   "metadata": {},
   "outputs": [],
   "source": [
    "conn = sqlite3.connect(\"../../data/product_data.db\")\n",
    "df_main = pd.read_sql(\"SELECT * FROM product_main_data\", conn)\n",
    "df_variants = pd.read_sql(\"SELECT * FROM product_variants_data\", conn)\n",
    "df_reviews = pd.read_sql(\"SELECT * FROM product_review_data\", conn)\n",
    "\n",
    "# cleaning and preparation\n",
    "# Replace \"N/A\" to NaN \n",
    "df_main.replace(\"N/A\", np.nan, inplace= True)\n",
    "df_variants.replace(\"N/A\", np.nan, inplace= True)\n",
    "# Drop rows where there is NaN in category or Name\n",
    "df_main.dropna(subset = [\"category\", \"master_name\"], inplace=True)\n",
    "df_variants.dropna(subset = [\"category\", \"master_name\"], inplace = True)\n",
    "\n",
    "\n",
    "# Ensure numerical categories are int\n",
    "columns_to_convert = [\n",
    "    \"True to size (size_ag)\", \"Too Big (size_ag)\", \"Small (size_ag)\", \"Too Small (size_ag)\", \"Not specified (size_ag)\",\n",
    "    \"Big (size_ag)\", \"Not specified (experience)\", \"Quality (experience)\", \"Stylish (experience)\", \"Comfortable (experience)\",\n",
    "    \"Verified Buyer\", \"Verified Reviewer\", \"Unverified\"\n",
    "]\n",
    "\n",
    "df_main[columns_to_convert] = df_main[columns_to_convert].astype(float)\n",
    "\n",
    "# Ensure correct category name and formatting\n",
    "fix_categories = {\"LOAFERS & FLATS\" : \"WOMEN'S - LOAFERS & FLATS\",\n",
    "                  \"BOOTS & BOOTIES\" : \"WOMEN'S - BOOTS & BOOTIES\",\n",
    "                  \"SLIP-ONS & SLIDES\" : \"WOMEN'S - SLIP-ONS & SLIDES\",\n",
    "                  \"MULES\" : \"WOMEN'S - MULES\"}\n",
    "df_main[\"category\"] = df_main[\"category\"].replace(fix_categories)\n",
    "df_main[\"category\"] = df_main[\"category\"].str.upper()\n",
    "\n",
    "# Change review values to int\n",
    "df_main[\"rating\"] = df_main[\"rating\"].replace(r\" star rating\", \"\", regex= True).astype(\"float\")\n",
    "\n",
    "# Ensure price values are in int and dont have currency symbols\n",
    "df_variants[\"price\"] = df_variants[\"price\"].replace(r\"From |[\\$]\", \"\", regex = True).astype(\"float\")\n",
    "\n",
    "# Remove duplicate rows in df_variants\n",
    "df_variants.drop_duplicates(subset=[\"full_product_name\"], inplace=True)\n"
   ]
  },
  {
   "cell_type": "code",
   "execution_count": 3,
   "id": "512c90d2",
   "metadata": {},
   "outputs": [],
   "source": [
    "df_main.head(5)\n",
    "pio.templates.default = \"vizro_dark\""
   ]
  },
  {
   "cell_type": "markdown",
   "id": "5206b8e3",
   "metadata": {},
   "source": [
    "## EDA as much charts as possible (may need to combine them cause probably better and its too much charts)(after each as a report kinda)"
   ]
  },
  {
   "cell_type": "markdown",
   "id": "fd68bfae",
   "metadata": {},
   "source": [
    "### Number of master products per category"
   ]
  },
  {
   "cell_type": "code",
   "execution_count": 12,
   "id": "027fccc4",
   "metadata": {},
   "outputs": [
    {
     "data": {
      "application/vnd.plotly.v1+json": {
       "config": {
        "plotlyServerURL": "https://plot.ly"
       },
       "data": [
        {
         "hovertemplate": "master_name=%{marker.color}<br>category=%{y}<extra></extra>",
         "legendgroup": "",
         "marker": {
          "color": {
           "bdata": "EgHdANEAjgCLAFwAWwBLADgAMAAwACUAGwAZABkAGAAYABgAFAASAA0ADAAMAAoACQAHAAUAAwACAAIAAQA=",
           "dtype": "i2"
          },
          "coloraxis": "coloraxis",
          "pattern": {
           "shape": ""
          }
         },
         "name": "",
         "orientation": "h",
         "showlegend": false,
         "textposition": "auto",
         "type": "bar",
         "x": {
          "bdata": "EgHdANEAjgCLAFwAWwBLADgAMAAwACUAGwAZABkAGAAYABgAFAASAA0ADAAMAAoACQAHAAUAAwACAAIAAQA=",
          "dtype": "i2"
         },
         "xaxis": "x",
         "y": [
          "WOMEN'S - HEELS",
          "WOMEN'S - BOOTS & BOOTIES",
          "WOMEN'S - SANDALS",
          "WOMEN'S - SNEAKERS",
          "WOMEN'S - LOAFERS & FLATS",
          "CLOTHING - BOTTOMS",
          "HANDBAGS - CROSSBODY BAGS",
          "CLOTHING - DRESSES & JUMPSUITS",
          "CLOTHING - JACKETS & COATS",
          "ACCESSORIES - SOCKS & TIGHTS",
          "CLOTHING - TOPS & SHIRTS",
          "ACCESSORIES - FASHION JEWELRY",
          "MINI ME",
          "MEN'S - SNEAKERS",
          "MEN'S - BOOTS",
          "KIDS' SPECIAL OCCASION SHOES",
          "MEN'S - LOAFERS",
          "ACCESSORIES - HATS AND SCARVES",
          "ACCESSORIES - SUNGLASSES",
          "MEN'S - CASUALS",
          "HANDBAGS - CLUTCHES & MINI BAGS",
          "HANDBAGS - BELT BAGS & BACKPACKS",
          "MEN'S - DRESS SHOES",
          "HANDBAGS - WALLETS & CHARMS",
          "MEN'S - SANDALS",
          "KIDS PRETTY IN PINK",
          "ACCESSORIES - SHOE CARE",
          "KIDS SPORTY CHIC",
          "CLOTHING - MATCHING SETS",
          "WOMEN'S - PLATFORMS",
          "WOMEN'S - MULES"
         ],
         "yaxis": "y"
        }
       ],
       "layout": {
        "bargap": 0.1,
        "barmode": "relative",
        "coloraxis": {
         "colorbar": {
          "title": {
           "text": "master_name"
          }
         },
         "colorscale": [
          [
           0,
           "rgb(161, 105, 40)"
          ],
          [
           0.16666666666666666,
           "rgb(189, 146, 90)"
          ],
          [
           0.3333333333333333,
           "rgb(214, 189, 141)"
          ],
          [
           0.5,
           "rgb(237, 234, 194)"
          ],
          [
           0.6666666666666666,
           "rgb(181, 200, 184)"
          ],
          [
           0.8333333333333334,
           "rgb(121, 167, 172)"
          ],
          [
           1,
           "rgb(40, 135, 161)"
          ]
         ]
        },
        "height": 500,
        "legend": {
         "tracegroupgap": 0
        },
        "margin": {
         "b": 50,
         "l": 50,
         "r": 50,
         "t": 50
        },
        "template": {
         "data": {
          "bar": [
           {
            "marker": {
             "line": {
              "color": "#141721"
             }
            },
            "type": "bar"
           }
          ],
          "waterfall": [
           {
            "connector": {
             "line": {
              "color": "rgba(255, 255, 255, 0.3019607843)",
              "width": 1
             }
            },
            "decreasing": {
             "marker": {
              "color": "#ff9222"
             }
            },
            "increasing": {
             "marker": {
              "color": "#00b4ff"
             }
            },
            "textfont": {
             "color": "rgba(255, 255, 255, 0.8784313725)"
            },
            "textposition": "outside",
            "totals": {
             "marker": {
              "color": "grey"
             }
            },
            "type": "waterfall"
           }
          ]
         },
         "layout": {
          "annotationdefaults": {
           "font": {
            "color": "rgba(255, 255, 255, 0.8784313725)",
            "size": 14
           },
           "showarrow": false
          },
          "bargroupgap": 0.1,
          "coloraxis": {
           "autocolorscale": false,
           "colorbar": {
            "outlinewidth": 0,
            "showticklabels": true,
            "thickness": 20,
            "tickcolor": "rgba(255, 255, 255, 0.3019607843)",
            "tickfont": {
             "color": "rgba(255, 255, 255, 0.6)",
             "size": 14
            },
            "ticklabelposition": "outside",
            "ticklen": 8,
            "ticks": "outside",
            "tickwidth": 1,
            "title": {
             "font": {
              "color": "rgba(255, 255, 255, 0.6)",
              "size": 14
             }
            }
           }
          },
          "colorscale": {
           "diverging": [
            [
             0,
             "#7e000c"
            ],
            [
             0.05555555555555555,
             "#9d1021"
            ],
            [
             0.1111111111111111,
             "#bc1f37"
            ],
            [
             0.16666666666666666,
             "#db2f4c"
            ],
            [
             0.2222222222222222,
             "#ea536b"
            ],
            [
             0.2777777777777778,
             "#f67486"
            ],
            [
             0.3333333333333333,
             "#fe94a0"
            ],
            [
             0.3888888888888889,
             "#fbb6be"
            ],
            [
             0.4444444444444444,
             "#f8d6da"
            ],
            [
             0.5,
             "#E6E8EA"
            ],
            [
             0.5555555555555556,
             "#afe7f9"
            ],
            [
             0.6111111111111112,
             "#5bd6fe"
            ],
            [
             0.6666666666666666,
             "#3bbef1"
            ],
            [
             0.7222222222222222,
             "#24a6e1"
            ],
            [
             0.7777777777777778,
             "#0d8ed1"
            ],
            [
             0.8333333333333334,
             "#0077bd"
            ],
            [
             0.8888888888888888,
             "#0061a4"
            ],
            [
             0.9444444444444444,
             "#004c8c"
            ],
            [
             1,
             "#003875"
            ]
           ],
           "sequential": [
            [
             0,
             "#afe7f9"
            ],
            [
             0.125,
             "#5bd6fe"
            ],
            [
             0.25,
             "#3bbef1"
            ],
            [
             0.375,
             "#24a6e1"
            ],
            [
             0.5,
             "#0d8ed1"
            ],
            [
             0.625,
             "#0077bd"
            ],
            [
             0.75,
             "#0061a4"
            ],
            [
             0.875,
             "#004c8c"
            ],
            [
             1,
             "#003875"
            ]
           ],
           "sequentialminus": [
            [
             0,
             "#7e000c"
            ],
            [
             0.125,
             "#9d1021"
            ],
            [
             0.25,
             "#bc1f37"
            ],
            [
             0.375,
             "#db2f4c"
            ],
            [
             0.5,
             "#ea536b"
            ],
            [
             0.625,
             "#f67486"
            ],
            [
             0.75,
             "#fe94a0"
            ],
            [
             0.875,
             "#fbb6be"
            ],
            [
             1,
             "#f8d6da"
            ]
           ]
          },
          "colorway": [
           "#00b4ff",
           "#ff9222",
           "#3949ab",
           "#ff5267",
           "#08bdba",
           "#fdc935",
           "#689f38",
           "#976fd1",
           "#f781bf",
           "#52733e"
          ],
          "font": {
           "color": "rgba(255, 255, 255, 0.8784313725)",
           "family": "Inter, sans-serif, Arial",
           "size": 14
          },
          "geo": {
           "bgcolor": "#141721",
           "lakecolor": "#141721",
           "landcolor": "#141721"
          },
          "legend": {
           "bgcolor": "rgba(0, 0, 0, 0)",
           "font": {
            "color": "rgba(255, 255, 255, 0.8784313725)",
            "size": 14
           },
           "orientation": "h",
           "title": {
            "font": {
             "color": "rgba(255, 255, 255, 0.8784313725)",
             "size": 14
            }
           },
           "y": -0.2
          },
          "map": {
           "style": "carto-darkmatter"
          },
          "margin": {
           "autoexpand": true,
           "b": 64,
           "l": 80,
           "pad": 0,
           "r": 24,
           "t": 64
          },
          "modebar": {
           "activecolor": "darkgrey",
           "bgcolor": "rgba(0, 0, 0, 0)",
           "color": "dimgrey"
          },
          "paper_bgcolor": "#141721",
          "plot_bgcolor": "#141721",
          "polar": {
           "angularaxis": {
            "gridcolor": "rgba(255, 255, 255, 0.1019607843)",
            "linecolor": "rgba(255, 255, 255, 0.3019607843)"
           },
           "bgcolor": "#141721",
           "radialaxis": {
            "gridcolor": "rgba(255, 255, 255, 0.1019607843)",
            "linecolor": "rgba(255, 255, 255, 0.3019607843)"
           }
          },
          "showlegend": true,
          "ternary": {
           "aaxis": {
            "gridcolor": "rgba(255, 255, 255, 0.1019607843)",
            "linecolor": "rgba(255, 255, 255, 0.3019607843)"
           },
           "baxis": {
            "gridcolor": "rgba(255, 255, 255, 0.1019607843)",
            "linecolor": "rgba(255, 255, 255, 0.3019607843)"
           },
           "bgcolor": "#141721",
           "caxis": {
            "gridcolor": "rgba(255, 255, 255, 0.1019607843)",
            "linecolor": "rgba(255, 255, 255, 0.3019607843)"
           }
          },
          "title": {
           "font": {
            "color": "rgba(255, 255, 255, 0.8784313725)",
            "size": 20
           },
           "pad": {
            "b": 0,
            "l": 24,
            "r": 24,
            "t": 24
           },
           "x": 0,
           "xanchor": "left",
           "xref": "container",
           "y": 1,
           "yanchor": "top",
           "yref": "container"
          },
          "uniformtext": {
           "minsize": 12,
           "mode": "hide"
          },
          "xaxis": {
           "automargin": true,
           "gridcolor": "rgba(255, 255, 255, 0.1019607843)",
           "layer": "below traces",
           "linecolor": "rgba(255, 255, 255, 0.3019607843)",
           "linewidth": 1,
           "showline": true,
           "showticklabels": true,
           "tickcolor": "rgba(255, 255, 255, 0.3019607843)",
           "tickfont": {
            "color": "rgba(255, 255, 255, 0.6)",
            "size": 14
           },
           "ticklabelposition": "outside",
           "ticklen": 8,
           "ticks": "outside",
           "tickwidth": 1,
           "title": {
            "font": {
             "color": "rgba(255, 255, 255, 0.8784313725)",
             "size": 16
            },
            "standoff": 8
           },
           "visible": true,
           "zeroline": false
          },
          "yaxis": {
           "automargin": true,
           "gridcolor": "rgba(255, 255, 255, 0.1019607843)",
           "layer": "below traces",
           "linecolor": "rgba(255, 255, 255, 0.3019607843)",
           "linewidth": 1,
           "showline": false,
           "showticklabels": true,
           "tickcolor": "rgba(255, 255, 255, 0.3019607843)",
           "tickfont": {
            "color": "rgba(255, 255, 255, 0.6)",
            "size": 14
           },
           "ticklabelposition": "outside",
           "ticklen": 8,
           "ticks": "outside",
           "tickwidth": 1,
           "title": {
            "font": {
             "color": "rgba(255, 255, 255, 0.8784313725)",
             "size": 16
            },
            "standoff": 8
           },
           "visible": true,
           "zeroline": false
          }
         }
        },
        "title": {
         "font": {
          "color": "white",
          "family": "Arial, sans-serif",
          "size": 24
         },
         "text": "Product amount per category",
         "x": 0.5,
         "xanchor": "center",
         "y": 1
        },
        "width": 1000,
        "xaxis": {
         "anchor": "y",
         "domain": [
          0,
          1
         ],
         "title": {
          "font": {
           "color": "white",
           "family": "Arial",
           "size": 18
          },
          "text": "Product amount"
         }
        },
        "yaxis": {
         "anchor": "x",
         "domain": [
          0,
          1
         ],
         "tickfont": {
          "color": "white",
          "size": 10
         },
         "title": {
          "font": {
           "color": "white",
           "family": "Arial",
           "size": 18
          },
          "text": "Category"
         }
        }
       }
      }
     },
     "metadata": {},
     "output_type": "display_data"
    }
   ],
   "source": [
    "df = df_main.groupby(\"category\")[\"master_name\"].count().reset_index()\n",
    "df = df.sort_values(by= \"master_name\", ascending= False)\n",
    "fig = px.bar(df, y = \"category\", x = \"master_name\", color= \"master_name\", color_continuous_scale=\"Earth\", title = \"Product amount per category\")\n",
    "fig.update_layout(\n",
    "    width=1000, \n",
    "    height=500,\n",
    "    xaxis_title=\"Product amount\",\n",
    "    yaxis_title=\"Category\",\n",
    "    xaxis_title_font=dict(family=\"Arial\", size=18, color=\"white\"),\n",
    "    yaxis_title_font=dict(family=\"Arial\", size=18, color=\"white\"),\n",
    "    title={\n",
    "        'x': 0.5,\n",
    "        \"y\": 1,\n",
    "        'xanchor': 'center',\n",
    "        'font': {'size': 24, 'family': \"Arial, sans-serif\", 'color': 'white'}\n",
    "    },\n",
    "    margin=dict(l=50, r=50, t=50, b=50),\n",
    "    bargap=0.1,       \n",
    "    yaxis=dict(\n",
    "        tickfont=dict(size=10, color = \"white\")  \n",
    "    ),\n",
    "    )\n",
    "fig.show()"
   ]
  },
  {
   "cell_type": "markdown",
   "id": "939df526",
   "metadata": {},
   "source": [
    "### Number of categories"
   ]
  },
  {
   "cell_type": "code",
   "execution_count": 5,
   "id": "84c94bb1",
   "metadata": {},
   "outputs": [
    {
     "name": "stdout",
     "output_type": "stream",
     "text": [
      "Number of unqie categories - 31\n"
     ]
    }
   ],
   "source": [
    "\n",
    "print(f\"Number of unqie categories - {df_main[\"category\"].nunique()}\")"
   ]
  },
  {
   "cell_type": "markdown",
   "id": "e5db8811",
   "metadata": {},
   "source": [
    "# Review_rating distribution (histogram?)"
   ]
  },
  {
   "cell_type": "code",
   "execution_count": 6,
   "id": "f31632fa",
   "metadata": {},
   "outputs": [
    {
     "data": {
      "application/vnd.plotly.v1+json": {
       "config": {
        "plotlyServerURL": "https://plot.ly"
       },
       "data": [
        {
         "hovertemplate": "review_amount=%{marker.color}<br>rating=%{y}<extra></extra>",
         "legendgroup": "",
         "marker": {
          "color": {
           "bdata": "AgAIAAkAAgADAA0ADgAgACoAGgCoAo8C7QTREUgHGQTcB/4YSAPaFz8QqQ84D2MFugU=",
           "dtype": "i2"
          },
          "coloraxis": "coloraxis",
          "pattern": {
           "shape": ""
          }
         },
         "name": "",
         "orientation": "v",
         "showlegend": false,
         "textposition": "auto",
         "type": "bar",
         "x": {
          "bdata": "AgAIAAkAAgADAA0ADgAgACoAGgCoAo8C7QTREUgHGQTcB/4YSAPaFz8QqQ84D2MFugU=",
          "dtype": "i2"
         },
         "xaxis": "x",
         "y": {
          "bdata": "AAAAAAAA8D8AAAAAAAAAQGZmZmZmZgJAAAAAAAAABECamZmZmZkFQGZmZmZmZgZAMzMzMzMzB0AAAAAAAAAIQGZmZmZmZgpAAAAAAAAADEDNzMzMzMwMQJqZmZmZmQ1AZmZmZmZmDkAzMzMzMzMPQAAAAAAAABBAZmZmZmZmEEDNzMzMzMwQQDMzMzMzMxFAmpmZmZmZEUAAAAAAAAASQGZmZmZmZhJAzczMzMzMEkAzMzMzMzMTQJqZmZmZmRNAAAAAAAAAFEA=",
          "dtype": "f8"
         },
         "yaxis": "y"
        }
       ],
       "layout": {
        "bargap": 0.1,
        "barmode": "relative",
        "coloraxis": {
         "colorbar": {
          "title": {
           "text": "review_amount"
          }
         },
         "colorscale": [
          [
           0,
           "#afe7f9"
          ],
          [
           0.125,
           "#5bd6fe"
          ],
          [
           0.25,
           "#3bbef1"
          ],
          [
           0.375,
           "#24a6e1"
          ],
          [
           0.5,
           "#0d8ed1"
          ],
          [
           0.625,
           "#0077bd"
          ],
          [
           0.75,
           "#0061a4"
          ],
          [
           0.875,
           "#004c8c"
          ],
          [
           1,
           "#003875"
          ]
         ]
        },
        "height": 500,
        "legend": {
         "tracegroupgap": 0
        },
        "margin": {
         "b": 50,
         "l": 50,
         "r": 50,
         "t": 50
        },
        "showlegend": false,
        "template": {
         "data": {
          "bar": [
           {
            "marker": {
             "line": {
              "color": "#141721"
             }
            },
            "type": "bar"
           }
          ],
          "waterfall": [
           {
            "connector": {
             "line": {
              "color": "rgba(255, 255, 255, 0.3019607843)",
              "width": 1
             }
            },
            "decreasing": {
             "marker": {
              "color": "#ff9222"
             }
            },
            "increasing": {
             "marker": {
              "color": "#00b4ff"
             }
            },
            "textfont": {
             "color": "rgba(255, 255, 255, 0.8784313725)"
            },
            "textposition": "outside",
            "totals": {
             "marker": {
              "color": "grey"
             }
            },
            "type": "waterfall"
           }
          ]
         },
         "layout": {
          "annotationdefaults": {
           "font": {
            "color": "rgba(255, 255, 255, 0.8784313725)",
            "size": 14
           },
           "showarrow": false
          },
          "bargroupgap": 0.1,
          "coloraxis": {
           "autocolorscale": false,
           "colorbar": {
            "outlinewidth": 0,
            "showticklabels": true,
            "thickness": 20,
            "tickcolor": "rgba(255, 255, 255, 0.3019607843)",
            "tickfont": {
             "color": "rgba(255, 255, 255, 0.6)",
             "size": 14
            },
            "ticklabelposition": "outside",
            "ticklen": 8,
            "ticks": "outside",
            "tickwidth": 1,
            "title": {
             "font": {
              "color": "rgba(255, 255, 255, 0.6)",
              "size": 14
             }
            }
           }
          },
          "colorscale": {
           "diverging": [
            [
             0,
             "#7e000c"
            ],
            [
             0.05555555555555555,
             "#9d1021"
            ],
            [
             0.1111111111111111,
             "#bc1f37"
            ],
            [
             0.16666666666666666,
             "#db2f4c"
            ],
            [
             0.2222222222222222,
             "#ea536b"
            ],
            [
             0.2777777777777778,
             "#f67486"
            ],
            [
             0.3333333333333333,
             "#fe94a0"
            ],
            [
             0.3888888888888889,
             "#fbb6be"
            ],
            [
             0.4444444444444444,
             "#f8d6da"
            ],
            [
             0.5,
             "#E6E8EA"
            ],
            [
             0.5555555555555556,
             "#afe7f9"
            ],
            [
             0.6111111111111112,
             "#5bd6fe"
            ],
            [
             0.6666666666666666,
             "#3bbef1"
            ],
            [
             0.7222222222222222,
             "#24a6e1"
            ],
            [
             0.7777777777777778,
             "#0d8ed1"
            ],
            [
             0.8333333333333334,
             "#0077bd"
            ],
            [
             0.8888888888888888,
             "#0061a4"
            ],
            [
             0.9444444444444444,
             "#004c8c"
            ],
            [
             1,
             "#003875"
            ]
           ],
           "sequential": [
            [
             0,
             "#afe7f9"
            ],
            [
             0.125,
             "#5bd6fe"
            ],
            [
             0.25,
             "#3bbef1"
            ],
            [
             0.375,
             "#24a6e1"
            ],
            [
             0.5,
             "#0d8ed1"
            ],
            [
             0.625,
             "#0077bd"
            ],
            [
             0.75,
             "#0061a4"
            ],
            [
             0.875,
             "#004c8c"
            ],
            [
             1,
             "#003875"
            ]
           ],
           "sequentialminus": [
            [
             0,
             "#7e000c"
            ],
            [
             0.125,
             "#9d1021"
            ],
            [
             0.25,
             "#bc1f37"
            ],
            [
             0.375,
             "#db2f4c"
            ],
            [
             0.5,
             "#ea536b"
            ],
            [
             0.625,
             "#f67486"
            ],
            [
             0.75,
             "#fe94a0"
            ],
            [
             0.875,
             "#fbb6be"
            ],
            [
             1,
             "#f8d6da"
            ]
           ]
          },
          "colorway": [
           "#00b4ff",
           "#ff9222",
           "#3949ab",
           "#ff5267",
           "#08bdba",
           "#fdc935",
           "#689f38",
           "#976fd1",
           "#f781bf",
           "#52733e"
          ],
          "font": {
           "color": "rgba(255, 255, 255, 0.8784313725)",
           "family": "Inter, sans-serif, Arial",
           "size": 14
          },
          "geo": {
           "bgcolor": "#141721",
           "lakecolor": "#141721",
           "landcolor": "#141721"
          },
          "legend": {
           "bgcolor": "rgba(0, 0, 0, 0)",
           "font": {
            "color": "rgba(255, 255, 255, 0.8784313725)",
            "size": 14
           },
           "orientation": "h",
           "title": {
            "font": {
             "color": "rgba(255, 255, 255, 0.8784313725)",
             "size": 14
            }
           },
           "y": -0.2
          },
          "map": {
           "style": "carto-darkmatter"
          },
          "margin": {
           "autoexpand": true,
           "b": 64,
           "l": 80,
           "pad": 0,
           "r": 24,
           "t": 64
          },
          "modebar": {
           "activecolor": "darkgrey",
           "bgcolor": "rgba(0, 0, 0, 0)",
           "color": "dimgrey"
          },
          "paper_bgcolor": "#141721",
          "plot_bgcolor": "#141721",
          "polar": {
           "angularaxis": {
            "gridcolor": "rgba(255, 255, 255, 0.1019607843)",
            "linecolor": "rgba(255, 255, 255, 0.3019607843)"
           },
           "bgcolor": "#141721",
           "radialaxis": {
            "gridcolor": "rgba(255, 255, 255, 0.1019607843)",
            "linecolor": "rgba(255, 255, 255, 0.3019607843)"
           }
          },
          "showlegend": true,
          "ternary": {
           "aaxis": {
            "gridcolor": "rgba(255, 255, 255, 0.1019607843)",
            "linecolor": "rgba(255, 255, 255, 0.3019607843)"
           },
           "baxis": {
            "gridcolor": "rgba(255, 255, 255, 0.1019607843)",
            "linecolor": "rgba(255, 255, 255, 0.3019607843)"
           },
           "bgcolor": "#141721",
           "caxis": {
            "gridcolor": "rgba(255, 255, 255, 0.1019607843)",
            "linecolor": "rgba(255, 255, 255, 0.3019607843)"
           }
          },
          "title": {
           "font": {
            "color": "rgba(255, 255, 255, 0.8784313725)",
            "size": 20
           },
           "pad": {
            "b": 0,
            "l": 24,
            "r": 24,
            "t": 24
           },
           "x": 0,
           "xanchor": "left",
           "xref": "container",
           "y": 1,
           "yanchor": "top",
           "yref": "container"
          },
          "uniformtext": {
           "minsize": 12,
           "mode": "hide"
          },
          "xaxis": {
           "automargin": true,
           "gridcolor": "rgba(255, 255, 255, 0.1019607843)",
           "layer": "below traces",
           "linecolor": "rgba(255, 255, 255, 0.3019607843)",
           "linewidth": 1,
           "showline": true,
           "showticklabels": true,
           "tickcolor": "rgba(255, 255, 255, 0.3019607843)",
           "tickfont": {
            "color": "rgba(255, 255, 255, 0.6)",
            "size": 14
           },
           "ticklabelposition": "outside",
           "ticklen": 8,
           "ticks": "outside",
           "tickwidth": 1,
           "title": {
            "font": {
             "color": "rgba(255, 255, 255, 0.8784313725)",
             "size": 16
            },
            "standoff": 8
           },
           "visible": true,
           "zeroline": false
          },
          "yaxis": {
           "automargin": true,
           "gridcolor": "rgba(255, 255, 255, 0.1019607843)",
           "layer": "below traces",
           "linecolor": "rgba(255, 255, 255, 0.3019607843)",
           "linewidth": 1,
           "showline": false,
           "showticklabels": true,
           "tickcolor": "rgba(255, 255, 255, 0.3019607843)",
           "tickfont": {
            "color": "rgba(255, 255, 255, 0.6)",
            "size": 14
           },
           "ticklabelposition": "outside",
           "ticklen": 8,
           "ticks": "outside",
           "tickwidth": 1,
           "title": {
            "font": {
             "color": "rgba(255, 255, 255, 0.8784313725)",
             "size": 16
            },
            "standoff": 8
           },
           "visible": true,
           "zeroline": false
          }
         }
        },
        "title": {
         "font": {
          "color": "white",
          "family": "Arial, sans-serif",
          "size": 24
         },
         "text": "Review - rating distribution",
         "x": 0.5,
         "xanchor": "center",
         "y": 1
        },
        "width": 1400,
        "xaxis": {
         "anchor": "y",
         "domain": [
          0,
          1
         ],
         "dtick": 0.1,
         "tick0": 1,
         "tickmode": "linear",
         "title": {
          "font": {
           "color": "white",
           "family": "Arial",
           "size": 18
          },
          "text": "Rating"
         }
        },
        "yaxis": {
         "anchor": "x",
         "domain": [
          0,
          1
         ],
         "tickfont": {
          "color": "white",
          "size": 10
         },
         "title": {
          "font": {
           "color": "white",
           "family": "Arial",
           "size": 18
          },
          "text": "Review amount"
         }
        }
       }
      }
     },
     "metadata": {},
     "output_type": "display_data"
    }
   ],
   "source": [
    "# Review_rating distribution (histogram?)\n",
    "df = df_main.groupby(\"rating\")[\"review_amount\"].sum().reset_index()\n",
    "df = df.sort_values(by= \"rating\", ascending= True)\n",
    "fig = px.bar(df, x = \"review_amount\", y = \"rating\", color= \"review_amount\", title = \"Review - rating distribution\")\n",
    "fig.update_layout(\n",
    "    width=1400, \n",
    "    height=500,\n",
    "    xaxis_title=\"Rating\",\n",
    "    yaxis_title=\"Review amount\",\n",
    "    xaxis_title_font=dict(family=\"Arial\", size=18, color=\"white\"),\n",
    "    yaxis_title_font=dict(family=\"Arial\", size=18, color=\"white\"),\n",
    "    showlegend=False,\n",
    "    title={\n",
    "        'x': 0.5,\n",
    "        \"y\": 1,\n",
    "        'xanchor': 'center',\n",
    "        'font': {'size': 24, 'family': \"Arial, sans-serif\", 'color': 'white'}\n",
    "    },\n",
    "    margin=dict(l=50, r=50, t=50, b=50),\n",
    "    bargap=0.1,       \n",
    "    xaxis=dict(\n",
    "        tickmode='linear',\n",
    "        tick0=1.0,        \n",
    "        dtick=0.1         \n",
    "    ),\n",
    "    yaxis=dict(\n",
    "        tickfont=dict(size=10, color = \"white\")  \n",
    "    ),\n",
    "    )\n",
    "fig.show()"
   ]
  },
  {
   "cell_type": "code",
   "execution_count": 3,
   "id": "266fd4b4",
   "metadata": {},
   "outputs": [
    {
     "ename": "NameError",
     "evalue": "name 'df' is not defined",
     "output_type": "error",
     "traceback": [
      "\u001b[31m---------------------------------------------------------------------------\u001b[39m",
      "\u001b[31mNameError\u001b[39m                                 Traceback (most recent call last)",
      "\u001b[36mCell\u001b[39m\u001b[36m \u001b[39m\u001b[32mIn[3]\u001b[39m\u001b[32m, line 1\u001b[39m\n\u001b[32m----> \u001b[39m\u001b[32m1\u001b[39m \u001b[43mdf\u001b[49m.head(\u001b[32m30\u001b[39m)\n",
      "\u001b[31mNameError\u001b[39m: name 'df' is not defined"
     ]
    }
   ],
   "source": [
    "df.head(30)"
   ]
  },
  {
   "cell_type": "code",
   "execution_count": 8,
   "id": "a4b2f3a1",
   "metadata": {},
   "outputs": [],
   "source": [
    "# top 50 most reviwed products probably too much\n",
    "# top something rated products\n",
    "# three charts for size verified experience\n",
    "# relationship between reviwes and size dissatisfaction\n",
    "# Category vs. experience counts (use aggregation) ?\n",
    "# Correlation with rating: do verified buyers leave higher ratings? most likely worthless\n",
    "\n",
    "# ask about next two\n",
    "# correlation matrix for numeric columns:\n",
    "# review_amount, rating, size/ag flags, experience flags\n",
    "\n",
    "# Scatter plots:\n",
    "# review_amount vs rating\n",
    "# Experience flags vs. size issues\n",
    "\n",
    "# total variants\n",
    "# variants per master name\n",
    "# number of colors\n",
    "# most common color by category probably useless maybe not nost probably worthless\n",
    "# price histogram\n",
    "# price distribution per category\n",
    "# avg price per category\n",
    "# Relationship between price and number of variants"
   ]
  }
 ],
 "metadata": {
  "kernelspec": {
   "display_name": "venv",
   "language": "python",
   "name": "python3"
  },
  "language_info": {
   "codemirror_mode": {
    "name": "ipython",
    "version": 3
   },
   "file_extension": ".py",
   "mimetype": "text/x-python",
   "name": "python",
   "nbconvert_exporter": "python",
   "pygments_lexer": "ipython3",
   "version": "3.13.3"
  }
 },
 "nbformat": 4,
 "nbformat_minor": 5
}
