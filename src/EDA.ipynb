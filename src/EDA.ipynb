{
 "cells": [
  {
   "cell_type": "code",
   "execution_count": null,
   "id": "d78df068",
   "metadata": {},
   "outputs": [],
   "source": [
    "import pandas as pd\n",
    "import plotly.io as pio\n",
    "import plotly.graph_objects as go\n",
    "import vizro.plotly.express as px\n",
    "from data_cleaning_and_utilities import plot_preset, get_earth_colorscale"
   ]
  },
  {
   "cell_type": "markdown",
   "id": "2bed5171",
   "metadata": {},
   "source": [
    "# Data loading"
   ]
  },
  {
   "cell_type": "code",
   "execution_count": 12,
   "id": "1885f963",
   "metadata": {},
   "outputs": [],
   "source": [
    "path = (\"../data/cleaned_main.csv\")\n",
    "df_main = pd.read_csv(path)\n",
    "path = \"../data/cleaned_variants.csv\"\n",
    "df_variants = pd.read_csv(path)"
   ]
  },
  {
   "cell_type": "markdown",
   "id": "4ef254fb",
   "metadata": {},
   "source": [
    "### Preview of df_main"
   ]
  },
  {
   "cell_type": "code",
   "execution_count": 13,
   "id": "f5862171",
   "metadata": {},
   "outputs": [
    {
     "data": {
      "text/html": [
       "<div>\n",
       "<style scoped>\n",
       "    .dataframe tbody tr th:only-of-type {\n",
       "        vertical-align: middle;\n",
       "    }\n",
       "\n",
       "    .dataframe tbody tr th {\n",
       "        vertical-align: top;\n",
       "    }\n",
       "\n",
       "    .dataframe thead th {\n",
       "        text-align: right;\n",
       "    }\n",
       "</style>\n",
       "<table border=\"1\" class=\"dataframe\">\n",
       "  <thead>\n",
       "    <tr style=\"text-align: right;\">\n",
       "      <th></th>\n",
       "      <th>main_category</th>\n",
       "      <th>subcategory</th>\n",
       "      <th>master_name</th>\n",
       "      <th>review_amount</th>\n",
       "      <th>rating</th>\n",
       "      <th>size</th>\n",
       "      <th>details</th>\n",
       "      <th>True to size (size_ag)</th>\n",
       "      <th>Too Big (size_ag)</th>\n",
       "      <th>Small (size_ag)</th>\n",
       "      <th>Too Small (size_ag)</th>\n",
       "      <th>Not specified (size_ag)</th>\n",
       "      <th>Big (size_ag)</th>\n",
       "      <th>Not specified (experience)</th>\n",
       "      <th>Quality (experience)</th>\n",
       "      <th>Stylish (experience)</th>\n",
       "      <th>Comfortable (experience)</th>\n",
       "      <th>Verified Buyer</th>\n",
       "      <th>Verified Reviewer</th>\n",
       "      <th>Unverified</th>\n",
       "    </tr>\n",
       "  </thead>\n",
       "  <tbody>\n",
       "    <tr>\n",
       "      <th>0</th>\n",
       "      <td>Woman's</td>\n",
       "      <td>Womens-sandals</td>\n",
       "      <td>Lumina</td>\n",
       "      <td>8</td>\n",
       "      <td>4.9</td>\n",
       "      <td>Big</td>\n",
       "      <td>.5 inch heel height; Suede; Textile lining; Sy...</td>\n",
       "      <td>3.0</td>\n",
       "      <td>1.0</td>\n",
       "      <td>0.0</td>\n",
       "      <td>0.0</td>\n",
       "      <td>1.0</td>\n",
       "      <td>3.0</td>\n",
       "      <td>4.0</td>\n",
       "      <td>3.0</td>\n",
       "      <td>3.0</td>\n",
       "      <td>3.0</td>\n",
       "      <td>7.0</td>\n",
       "      <td>0.0</td>\n",
       "      <td>1.0</td>\n",
       "    </tr>\n",
       "    <tr>\n",
       "      <th>1</th>\n",
       "      <td>Woman's</td>\n",
       "      <td>Womens-sandals</td>\n",
       "      <td>Linear</td>\n",
       "      <td>18</td>\n",
       "      <td>4.9</td>\n",
       "      <td>True to size</td>\n",
       "      <td>1 inch heel height; Suede upper material with ...</td>\n",
       "      <td>10.0</td>\n",
       "      <td>4.0</td>\n",
       "      <td>1.0</td>\n",
       "      <td>0.0</td>\n",
       "      <td>2.0</td>\n",
       "      <td>1.0</td>\n",
       "      <td>13.0</td>\n",
       "      <td>3.0</td>\n",
       "      <td>5.0</td>\n",
       "      <td>4.0</td>\n",
       "      <td>11.0</td>\n",
       "      <td>4.0</td>\n",
       "      <td>3.0</td>\n",
       "    </tr>\n",
       "  </tbody>\n",
       "</table>\n",
       "</div>"
      ],
      "text/plain": [
       "  main_category     subcategory master_name  review_amount  rating  \\\n",
       "0       Woman's  Womens-sandals      Lumina              8     4.9   \n",
       "1       Woman's  Womens-sandals      Linear             18     4.9   \n",
       "\n",
       "           size                                            details  \\\n",
       "0           Big  .5 inch heel height; Suede; Textile lining; Sy...   \n",
       "1  True to size  1 inch heel height; Suede upper material with ...   \n",
       "\n",
       "   True to size (size_ag)  Too Big (size_ag)  Small (size_ag)  \\\n",
       "0                     3.0                1.0              0.0   \n",
       "1                    10.0                4.0              1.0   \n",
       "\n",
       "   Too Small (size_ag)  Not specified (size_ag)  Big (size_ag)  \\\n",
       "0                  0.0                      1.0            3.0   \n",
       "1                  0.0                      2.0            1.0   \n",
       "\n",
       "   Not specified (experience)  Quality (experience)  Stylish (experience)  \\\n",
       "0                         4.0                   3.0                   3.0   \n",
       "1                        13.0                   3.0                   5.0   \n",
       "\n",
       "   Comfortable (experience)  Verified Buyer  Verified Reviewer  Unverified  \n",
       "0                       3.0             7.0                0.0         1.0  \n",
       "1                       4.0            11.0                4.0         3.0  "
      ]
     },
     "execution_count": 13,
     "metadata": {},
     "output_type": "execute_result"
    }
   ],
   "source": [
    "df_main.head(2)"
   ]
  },
  {
   "cell_type": "markdown",
   "id": "050eae46",
   "metadata": {},
   "source": [
    "### 🔍 Schema: `df_main`\n",
    "\n",
    "| Column                        | Description                                                  |\n",
    "|-------------------------------|--------------------------------------------------------------|\n",
    "| `main_category`               | High-level product category                                  |\n",
    "| `subcategory`                 | Specific product subcategory                                 |\n",
    "| `master_name`                 | Base product name                                            |\n",
    "| `review_amount`               | Number of reviews for the product                            |\n",
    "| `rating`                      | Average customer rating (1–5 scale)                          |\n",
    "| `size`                        | Average size fit (site-generated)                            |\n",
    "| `details`                     | Descriptive product details                                  |\n",
    "\n",
    "**Size Feedback Columns (`(size_ag)`) - these columns are counts of user-selected size-related tags from individual scraped reviews, such as:**\n",
    "- `True to size (size_ag)`, `Too Big (size_ag)`, `Small (size_ag)`, `Too Small (size_ag)`, `Not specified (size_ag)`, `Big (size_ag)`\n",
    "\n",
    "**Experience Feedback Columns (`(experience)`) - These columns are counts of user-selected experience-related tags from scraped reviews, such as:**\n",
    "- `Not specified (experience)`, `Quality (experience)`, `Stylish (experience)`, `Comfortable (experience)`\n",
    "\n",
    "**Verification Columns - indicate customer verification status:**\n",
    "- `Verified Buyer`, `Verified Reviewer`, `Unverified`"
   ]
  },
  {
   "cell_type": "markdown",
   "id": "49023ca4",
   "metadata": {},
   "source": [
    "### Preview of df_variants"
   ]
  },
  {
   "cell_type": "code",
   "execution_count": 14,
   "id": "67dffd6c",
   "metadata": {},
   "outputs": [
    {
     "data": {
      "text/html": [
       "<div>\n",
       "<style scoped>\n",
       "    .dataframe tbody tr th:only-of-type {\n",
       "        vertical-align: middle;\n",
       "    }\n",
       "\n",
       "    .dataframe tbody tr th {\n",
       "        vertical-align: top;\n",
       "    }\n",
       "\n",
       "    .dataframe thead th {\n",
       "        text-align: right;\n",
       "    }\n",
       "</style>\n",
       "<table border=\"1\" class=\"dataframe\">\n",
       "  <thead>\n",
       "    <tr style=\"text-align: right;\">\n",
       "      <th></th>\n",
       "      <th>main_category</th>\n",
       "      <th>subcategory</th>\n",
       "      <th>master_name</th>\n",
       "      <th>full_product_name</th>\n",
       "      <th>product_link</th>\n",
       "      <th>price</th>\n",
       "      <th>color</th>\n",
       "    </tr>\n",
       "  </thead>\n",
       "  <tbody>\n",
       "    <tr>\n",
       "      <th>0</th>\n",
       "      <td>Woman's</td>\n",
       "      <td>Womens-sandals</td>\n",
       "      <td>Lumina</td>\n",
       "      <td>Lumina Brown suede</td>\n",
       "      <td>https://www.stevemadden.com/collections/womens...</td>\n",
       "      <td>79.95</td>\n",
       "      <td>Brown suede</td>\n",
       "    </tr>\n",
       "    <tr>\n",
       "      <th>1</th>\n",
       "      <td>Woman's</td>\n",
       "      <td>Womens-sandals</td>\n",
       "      <td>Linear</td>\n",
       "      <td>Linear Taupe suede</td>\n",
       "      <td>https://www.stevemadden.com/collections/womens...</td>\n",
       "      <td>109.95</td>\n",
       "      <td>Taupe suede</td>\n",
       "    </tr>\n",
       "  </tbody>\n",
       "</table>\n",
       "</div>"
      ],
      "text/plain": [
       "  main_category     subcategory master_name   full_product_name  \\\n",
       "0       Woman's  Womens-sandals      Lumina  Lumina Brown suede   \n",
       "1       Woman's  Womens-sandals      Linear  Linear Taupe suede   \n",
       "\n",
       "                                        product_link   price        color  \n",
       "0  https://www.stevemadden.com/collections/womens...   79.95  Brown suede  \n",
       "1  https://www.stevemadden.com/collections/womens...  109.95  Taupe suede  "
      ]
     },
     "execution_count": 14,
     "metadata": {},
     "output_type": "execute_result"
    }
   ],
   "source": [
    "df_variants.head(2)"
   ]
  },
  {
   "cell_type": "markdown",
   "id": "c602945c",
   "metadata": {},
   "source": [
    "### 🔍 Schema: `df_variants`\n",
    "\n",
    "| Column               | Description                                   |\n",
    "|----------------------|-----------------------------------------------|\n",
    "| `main_category`      | High-level product category                   |\n",
    "| `subcategory`        | Specific product subcategory                  |\n",
    "| `master_name`        | Base product name                             |\n",
    "| `full_product_name`  | Full variant name (with color)                |\n",
    "| `product_link`       | Link to product page                          |\n",
    "| `price`              | Product price (USD)                           |\n",
    "| `color`              | Product color                                 |"
   ]
  },
  {
   "cell_type": "code",
   "execution_count": 15,
   "id": "512c90d2",
   "metadata": {},
   "outputs": [],
   "source": [
    "# Set up plot preset\n",
    "pio.templates.default = \"vizro_dark\"\n",
    "earth_palette = get_earth_colorscale()"
   ]
  },
  {
   "cell_type": "markdown",
   "id": "5206b8e3",
   "metadata": {},
   "source": [
    "\n",
    "# Exploratory Data Analysis"
   ]
  },
  {
   "cell_type": "markdown",
   "id": "fd68bfae",
   "metadata": {},
   "source": [
    "\n",
    "### Unique Products per Subcategory\n",
    "\n"
   ]
  },
  {
   "cell_type": "code",
   "execution_count": 16,
   "id": "027fccc4",
   "metadata": {},
   "outputs": [],
   "source": [
    "# Count unique products by subcategory\n",
    "df = df_main.groupby(\"subcategory\")[\"master_name\"].count().reset_index()\n",
    "df = df.sort_values(by= \"master_name\", ascending= False)\n",
    "\n",
    "# Create horizontal bar chart \n",
    "fig = px.bar(df, y = \"subcategory\", x = \"master_name\", color= \"master_name\", color_continuous_scale=\"Earth\", title = \"Number of Unique Products by Subcategory\")\n",
    "# Apply layout and styling\n",
    "fig = plot_preset(fig)\n",
    "fig.update_layout(\n",
    "    xaxis_title=\"Number of products\",\n",
    "    yaxis_title=\"Subcategory\",\n",
    "    height = 700\n",
    ");"
   ]
  },
  {
   "cell_type": "markdown",
   "id": "939df526",
   "metadata": {},
   "source": [
    "\n",
    "### Amount of subcategories\n"
   ]
  },
  {
   "cell_type": "code",
   "execution_count": 17,
   "id": "84c94bb1",
   "metadata": {},
   "outputs": [
    {
     "name": "stdout",
     "output_type": "stream",
     "text": [
      "Number of unique subcategories - 36\n"
     ]
    }
   ],
   "source": [
    "print(f\"Number of unique subcategories - {df_main[\"subcategory\"].nunique()}\")"
   ]
  },
  {
   "cell_type": "markdown",
   "id": "e5db8811",
   "metadata": {},
   "source": [
    "\n",
    "### Distribution of Reviews by Rating\n"
   ]
  },
  {
   "cell_type": "code",
   "execution_count": 18,
   "id": "f31632fa",
   "metadata": {},
   "outputs": [],
   "source": [
    "# Aggregate review counts per rating to analyze distribution of customer feedback\n",
    "df = df_main.groupby(\"rating\")[\"review_amount\"].sum().reset_index()\n",
    "df = df.sort_values(by= \"rating\", ascending= True)\n",
    "\n",
    "# Create bar chart showing total review count per rating\n",
    "fig = px.bar(df, y = \"review_amount\", x = \"rating\", color= \"review_amount\", color_continuous_scale=\"Earth\", title = \"Distribution of Reviews by Rating\")\n",
    "# Update axis labels\n",
    "fig = plot_preset(fig)\n",
    "fig.update_layout(\n",
    "    xaxis_title=\"Rating\",\n",
    "    yaxis_title=\"Number of Reviews\",\n",
    ");\n"
   ]
  },
  {
   "cell_type": "markdown",
   "id": "e79ae48d",
   "metadata": {},
   "source": [
    "### Top 10 Most Reviewed Products\n"
   ]
  },
  {
   "cell_type": "code",
   "execution_count": 19,
   "id": "0c418fb0",
   "metadata": {},
   "outputs": [],
   "source": [
    "# Add name_and_subcategory column \n",
    "df_main[\"name_and_subcategory\"] = df_main[\"master_name\"] + \" \" + df_main[\"subcategory\"]\n",
    "# Select top 10 products by total review count, ensuring unique product names\n",
    "df_top10 = df_main.sort_values(\"review_amount\", ascending=False).drop_duplicates(subset=[\"master_name\"]).iloc[:10]\n",
    "\n",
    "# Initialize a Plotly figure for the lollipop chart visualization\n",
    "fig = go.Figure()\n",
    "\n",
    "# Add scatter trace combining markers and lines to create the lollipop effect\n",
    "fig.add_trace(go.Scatter(\n",
    "    x=df_top10[\"review_amount\"],\n",
    "    y=df_top10[\"name_and_subcategory\"],\n",
    "    mode=\"markers+lines\",\n",
    "    marker=dict(size=12),\n",
    "    name=\"Reviews\"\n",
    "))\n",
    "\n",
    "fig.update_layout(title=\"Top 10 Most Reviewed Products\",\n",
    "                  xaxis_title=\"Review Count\", yaxis_title=\"Product\")\n",
    "fig = plot_preset(fig);"
   ]
  },
  {
   "cell_type": "markdown",
   "id": "047381ff",
   "metadata": {},
   "source": [
    "\n",
    "### Distribution of Size and Experience Related Feedback"
   ]
  },
  {
   "cell_type": "code",
   "execution_count": 20,
   "id": "5561184a",
   "metadata": {},
   "outputs": [],
   "source": [
    "# Aggregate total counts for all size-related feedback categories\n",
    "df_size = df_main[[col for col in df_main.columns if \"(size_ag)\" in col]].sum().reset_index()\n",
    "# Apply custom order to size dataframe\n",
    "size_order = [\n",
    "    \"True to size (size_ag)\",\n",
    "    \"Too Big (size_ag)\",\n",
    "    \"Big (size_ag)\",\n",
    "    \"Too Small (size_ag)\",\n",
    "    \"Small (size_ag)\",\n",
    "    \"Not specified (size_ag)\"\n",
    "]\n",
    "df_size[\"index\"] = pd.Categorical(df_size[\"index\"], categories=size_order, ordered=True)\n",
    "df_size = df_size.sort_values(\"index\")\n",
    "# Aggregate total counts for all experience-related feedback categories\n",
    "df_exp = df_main[[col for col in df_main.columns if \"(experience)\" in col]].sum().reset_index()\n",
    "\n",
    "# Plot distribution of size-related feedback on a logarithmic scale to handle wide value range\n",
    "fig1 = px.bar(df_size, x = \"index\", y = 0, log_y=True, color = 0, color_continuous_scale= \"Earth\", title = \"Distribution of Size-Related Feedback<br>(Log scale)\")\n",
    "fig1 = plot_preset(fig1)\n",
    "fig1.update_layout(\n",
    "    xaxis_title=\"Size Feedback Category\",\n",
    "    yaxis_title=\"Number of Responses\",\n",
    "    yaxis_tickvals = [\"1000\", \"1500\", \"2500\", \"3500\", \"5000\", \"7000\", \"10000\"],\n",
    "    yaxis_ticktext = [\"1000\", \"1500\", \"2500\", \"3500\", \"5000\", \"7000\", \"10000\"],\n",
    "    width=800, \n",
    "    height=500,    \n",
    ")\n",
    "fig1.update_coloraxes(colorbar_title_text='')\n",
    "\n",
    "# Plot distribution of experience-related feedback on a logarithmic scale\n",
    "fig2 = px.bar(df_exp, x = \"index\", y = 0, log_y=True, color = 0, color_continuous_scale= \"Earth\", title = \"Distribution of Experience-Related Feedback<br>(Log scale)\")\n",
    "fig2 = plot_preset(fig2)\n",
    "fig2.update_layout(\n",
    "    xaxis_title=\"Experience Feedback Category\",\n",
    "    yaxis_title=\"Number of Responses\",\n",
    "    yaxis_tickvals = [\"1000\", \"2000\", \"3500\", \"5000\", \"8000\", \"12000\" ,\"18000\"],\n",
    "    yaxis_ticktext = [\"1000\", \"2000\", \"3500\", \"5000\", \"8000\", \"12000\", \"18000\"],\n",
    "    width=800, \n",
    "    height=500,  \n",
    ")\n",
    "fig2.update_coloraxes(colorbar_title_text='');"
   ]
  },
  {
   "cell_type": "markdown",
   "id": "ce8bd042",
   "metadata": {},
   "source": [
    "### Count of Verified Buyers, Reviewers and Unverified Buyers"
   ]
  },
  {
   "cell_type": "code",
   "execution_count": 21,
   "id": "559e7a84",
   "metadata": {},
   "outputs": [
    {
     "data": {
      "text/html": [
       "<div>\n",
       "<style scoped>\n",
       "    .dataframe tbody tr th:only-of-type {\n",
       "        vertical-align: middle;\n",
       "    }\n",
       "\n",
       "    .dataframe tbody tr th {\n",
       "        vertical-align: top;\n",
       "    }\n",
       "\n",
       "    .dataframe thead th {\n",
       "        text-align: right;\n",
       "    }\n",
       "</style>\n",
       "<table border=\"1\" class=\"dataframe\">\n",
       "  <thead>\n",
       "    <tr style=\"text-align: right;\">\n",
       "      <th></th>\n",
       "      <th>index</th>\n",
       "      <th>0</th>\n",
       "    </tr>\n",
       "  </thead>\n",
       "  <tbody>\n",
       "    <tr>\n",
       "      <th>0</th>\n",
       "      <td>Verified Buyer</td>\n",
       "      <td>18379.0</td>\n",
       "    </tr>\n",
       "    <tr>\n",
       "      <th>1</th>\n",
       "      <td>Verified Reviewer</td>\n",
       "      <td>569.0</td>\n",
       "    </tr>\n",
       "    <tr>\n",
       "      <th>2</th>\n",
       "      <td>Unverified</td>\n",
       "      <td>1243.0</td>\n",
       "    </tr>\n",
       "  </tbody>\n",
       "</table>\n",
       "</div>"
      ],
      "text/plain": [
       "               index        0\n",
       "0     Verified Buyer  18379.0\n",
       "1  Verified Reviewer    569.0\n",
       "2         Unverified   1243.0"
      ]
     },
     "execution_count": 21,
     "metadata": {},
     "output_type": "execute_result"
    }
   ],
   "source": [
    "df_main[['Verified Buyer',\n",
    "       'Verified Reviewer', 'Unverified',]].sum().reset_index()"
   ]
  },
  {
   "cell_type": "markdown",
   "id": "9862b42e",
   "metadata": {},
   "source": [
    "### Normalized Size Feedback by Product Category"
   ]
  },
  {
   "cell_type": "code",
   "execution_count": 22,
   "id": "753cadd4",
   "metadata": {},
   "outputs": [],
   "source": [
    "# Select size-related feedback columns and group by main [roduct category\n",
    "df = df_main[[\"main_category\"] + [col for col in df_main.columns if \"(size_ag)\" in col ]]\n",
    "\n",
    "# Aggregate feedback counts by main category, summing responses per size feedback type\n",
    "df = df.groupby(\"main_category\").agg({\n",
    "    \"True to size (size_ag)\": \"sum\",\n",
    "    \"Too Big (size_ag)\" : \"sum\",\n",
    "    \"Small (size_ag)\" : \"sum\",\n",
    "    \"Too Small (size_ag)\" : \"sum\",\n",
    "    \"Not specified (size_ag)\" : \"sum\",\n",
    "    \"Big (size_ag)\" : \"sum\"\n",
    "}).reset_index()\n",
    "\n",
    "# Normalize feedback counts to percentages within each main category for relative comparison\n",
    "df_wc = df.drop([\"main_category\"], axis =1)\n",
    "df_sum = df_wc.sum(axis=1)\n",
    "df_wc = df_wc.div(df_sum, axis=0) * 100\n",
    "df_wc[\"main_category\"] = df[\"main_category\"]\n",
    "df = df_wc\n",
    "\n",
    "# Convert data to long format for easier plotting of grouped bar chart\n",
    "df = df.melt(id_vars = \"main_category\", value_vars= [\"True to size (size_ag)\", \"Too Big (size_ag)\",\t\"Small (size_ag)\", \"Too Small (size_ag)\", \"Not specified (size_ag)\", \"Big (size_ag)\"],\n",
    "             var_name = \"Size\", value_name= \"Count\")\n",
    "\n",
    "# Define order of size feedback categories and sort accordingly for consistent plot appearance\n",
    "order = [\"True to size (size_ag)\", \"Too Big (size_ag)\", \"Big (size_ag)\", \"Too Small (size_ag)\", \"Small (size_ag)\", \"Not specified (size_ag)\"]\n",
    "df[\"Size\"] = pd.Categorical(df[\"Size\"], categories=order, ordered=True)\n",
    "df = df.sort_values(by=[\"main_category\", \"Size\"])\n",
    "\n",
    "# Create grouped bar chart showing normalized size feedback percentages by product category\n",
    "fig = px.bar(df, x = \"main_category\", y = \"Count\", color = \"Size\", barmode=\"group\", color_discrete_sequence=earth_palette, title = \"Normalized Size Feedback by Product Category\")\n",
    "# Apply formatting\n",
    "fig = plot_preset(fig)\n",
    "fig.update_layout(\n",
    "    width = 1500,\n",
    "    xaxis_title = \"Product Category\",\n",
    "    yaxis_title = \"Feedback Share (%)\");"
   ]
  },
  {
   "cell_type": "markdown",
   "id": "0be5ee8d",
   "metadata": {},
   "source": [
    "\n",
    "### Average Rating by Product Category (Log Scale for Review Count)"
   ]
  },
  {
   "cell_type": "code",
   "execution_count": 23,
   "id": "63d64d06",
   "metadata": {},
   "outputs": [],
   "source": [
    "# Aggregate total review counts and average ratings by main product category\n",
    "df = df_main[[\"main_category\", \"master_name\", \"review_amount\", \"rating\"]]\n",
    "df = df.groupby(\"main_category\").agg({\n",
    "    \"review_amount\": \"sum\",     # Sum total reviews per category\n",
    "    \"rating\": \"mean\"            # Calculate average rating per category\n",
    "}).reset_index()\n",
    "\n",
    "# Sort categories by average rating descending for better visual ranking\n",
    "df = df.sort_values(by = \"rating\", ascending=False)\n",
    "\n",
    "# Create horizontal bar chart: total reviewss with average rating labeled\n",
    "fig = px.bar(df, x=\"review_amount\", y=\"main_category\", color=\"main_category\", orientation=\"h\", text=\"rating\",  title=\"Average Rating by Category (Log Scale for Review Amount)\",\n",
    "    color_discrete_sequence=earth_palette, hover_data=[\"review_amount\"]\n",
    ")\n",
    "\n",
    "# Configure log scale on x-axis with custom ticks and labels for readability\n",
    "fig.update_layout(\n",
    "    xaxis_title = \"Number of Reviews (log scale)\",\n",
    "    yaxis_title = \"Product Category\",\n",
    "    xaxis_type=\"log\",\n",
    "    xaxis_tickvals=[10, 100, 1000, 10000, 40000],\n",
    "    xaxis_ticktext=[\"10\", \"100\", \"1K\", \"10K\", \"40K\"],\n",
    "    uniformtext_minsize=8,\n",
    "    uniformtext_mode=\"hide\",\n",
    "    showlegend = False\n",
    ")\n",
    "\n",
    "# Display average rating on bars with two decimal precision outside bars\n",
    "fig.update_traces(\n",
    "    texttemplate=\"%{text:.2f}\",  \n",
    "    textposition=\"outside\"       \n",
    ");"
   ]
  },
  {
   "cell_type": "markdown",
   "id": "a6942e7d",
   "metadata": {},
   "source": [
    "### Unique Products vs Total Variants by Category (Grouped Bar Chart)"
   ]
  },
  {
   "cell_type": "code",
   "execution_count": 24,
   "id": "d3d293c9",
   "metadata": {},
   "outputs": [],
   "source": [
    "# Select relevant columns and group by main category\n",
    "# Calculate number of unique master products and total product variants per category\n",
    "df = df_variants[[\"main_category\", \"master_name\", \"full_product_name\"]]\n",
    "# Rename columns for clarity\n",
    "df = df.rename(columns={\n",
    "    \"master_name\" : \"Unique products\",\n",
    "    \"full_product_name\" : \"Total variants\"\n",
    "}\n",
    ")\n",
    "df = df.groupby(\"main_category\").agg({\n",
    "    \"Unique products\" : pd.Series.nunique, # count unique master products\n",
    "    \"Total variants\" : \"count\" # count total variants\n",
    "}).reset_index()\n",
    "\n",
    "# Transform data to long format for grouped bar plotting\n",
    "df = df.melt(id_vars=\"main_category\", value_vars=[\"Unique products\", \"Total variants\"], var_name=\"type\", value_name=\"count\")\n",
    "\n",
    "# Create grouped bar chart comparing unique products and variants by category (log scale)\n",
    "fig = px.bar(df, x = \"main_category\", y =\"count\", log_y=True, color = \"type\",  color_discrete_sequence=earth_palette, barmode= \"group\",\n",
    "              title= \"Unique Products vs Total Variants by Category(Log scale for Product Amount)\")\n",
    "\n",
    "fig = plot_preset(fig)\n",
    "fig.update_layout(\n",
    "    xaxis_title = \"Category name\",\n",
    "    yaxis_title = \"Product Amount\",\n",
    "    yaxis_tickvals = [\"50\", \"75\", \"100\", \"150\", \"225\", \"350\", \"500\", \"700\", \"1000\", \"1500\", \"2200\"]\n",
    ");"
   ]
  },
  {
   "cell_type": "markdown",
   "id": "ab486a3e",
   "metadata": {},
   "source": [
    "### Unique Products vs Total Variants by Category (Dumbbell Chart)"
   ]
  },
  {
   "cell_type": "code",
   "execution_count": 25,
   "id": "55a6065b",
   "metadata": {},
   "outputs": [],
   "source": [
    "# Group and aggregate data to get the number of unique master products and total variants per category\n",
    "df_dumbbell = df_variants.groupby(\"main_category\").agg({\n",
    "    \"master_name\": pd.Series.nunique,         # Count of distinct master products\n",
    "    \"full_product_name\": \"count\"              # Total number of product variants\n",
    "}).reset_index().rename(columns={\n",
    "    \"master_name\": \"Unique Products\",\n",
    "    \"full_product_name\": \"Total Variants\"\n",
    "})\n",
    "\n",
    "# Sort categories by total variant count for cleaner visualization\n",
    "df_dumbbell = df_dumbbell.sort_values(\"Total Variants\")\n",
    "\n",
    "# Initialize Plotly figure\n",
    "fig = go.Figure()\n",
    "\n",
    "# Add connecting lines between unique product and total variant counts\n",
    "for i, row in df_dumbbell.iterrows():\n",
    "    fig.add_trace(go.Scatter(\n",
    "        x=[row[\"Unique Products\"], row[\"Total Variants\"]],        \n",
    "        y=[row[\"main_category\"], row[\"main_category\"]],\n",
    "        mode='lines',\n",
    "        line=dict(color='gray', width=3),\n",
    "        showlegend=False\n",
    "    ))\n",
    "\n",
    "# Add left-side markers for unique product counts\n",
    "fig.add_trace(go.Scatter(\n",
    "    x=df_dumbbell[\"Unique Products\"],\n",
    "    y=df_dumbbell[\"main_category\"],\n",
    "    mode='markers',\n",
    "    marker=dict(color='blue', size=10),\n",
    "    name='Unique Products'\n",
    "))\n",
    "\n",
    "# Add right-side markers for total variant counts\n",
    "fig.add_trace(go.Scatter(\n",
    "    x=df_dumbbell[\"Total Variants\"],\n",
    "    y=df_dumbbell[\"main_category\"],\n",
    "    mode='markers',\n",
    "    marker=dict(color='orange', size=10),\n",
    "    name='Total Variants'\n",
    "))\n",
    "\n",
    "fig.update_layout(\n",
    "    title=\"Dumbbell Chart: Unique Products vs Total Variants by Category\",\n",
    "    xaxis_title=\"Count\",\n",
    "    yaxis_title=\"Category\",\n",
    "    height=600\n",
    ");"
   ]
  },
  {
   "cell_type": "markdown",
   "id": "24651bc9",
   "metadata": {},
   "source": [
    "### Average Price by Product Category"
   ]
  },
  {
   "cell_type": "code",
   "execution_count": 26,
   "id": "bf0bd6a2",
   "metadata": {},
   "outputs": [],
   "source": [
    "# Calculate mean price for each main product category\n",
    "df = df_variants[[\"main_category\", \"price\"]]\n",
    "df = df.groupby(\"main_category\")[\"price\"].mean().reset_index()\n",
    "# Sort categories by descending average price for clearer visualization\n",
    "df = df.sort_values(\"price\", ascending=False).reset_index(drop=True)\n",
    "\n",
    "# Create horizontal bar chart of average prices by category\n",
    "fig = px.bar(df, x = \"price\", y =\"main_category\", color=\"main_category\", color_discrete_sequence=earth_palette, title = \"Average Price by Product Category\")\n",
    "\n",
    "fig = plot_preset(fig)\n",
    "fig.update_layout(\n",
    "    xaxis_title = \"Average Price (USD)\",\n",
    "    yaxis_title = \"Product Category\",\n",
    "    yaxis={'categoryorder':'total descending'},\n",
    "    width = 1100\n",
    ")\n",
    "# Manually add price labels outside bars for clarity\n",
    "price_labels = [\"116.65\", \"91.67\", \"76.5\", \"73.09\", \"48.02\", \"23.25\"]\n",
    "for i, trace in enumerate(fig.data):\n",
    "    trace.text = price_labels[i]\n",
    "    trace.textposition = \"outside\""
   ]
  },
  {
   "cell_type": "markdown",
   "id": "890ea023",
   "metadata": {},
   "source": [
    "### Price Distribution by Category (Violin Plot)"
   ]
  },
  {
   "cell_type": "code",
   "execution_count": 27,
   "id": "a2863a39",
   "metadata": {},
   "outputs": [],
   "source": [
    "# Create violin plot showing price distribution across product categories\n",
    "fig = px.violin(df_variants, y=\"main_category\", x=\"price\", color=\"main_category\", box=True,\n",
    "    points=\"outliers\",  # Display only outlier points for clarity\n",
    "    title=\"Violin Plot: Price Distribution by Category\",\n",
    "    hover_data={\"price\": \":.2f\", \"main_category\": True},  # Format price hover info\n",
    "    color_discrete_sequence=px.colors.qualitative.Set2  # Set consistent color scheme\n",
    ")\n",
    "\n",
    "# Refine marker appearance and point distribution\n",
    "fig.update_traces(\n",
    "    jitter=0.2,  # Moderate horizontal spread of points\n",
    "    pointpos=0.0,  # Center points within violins\n",
    "    marker=dict(size=3, opacity=0.7)  # Smaller, semi-transparent points\n",
    ")\n",
    "\n",
    "# Customize layout for clarity and visual appeal\n",
    "fig.update_layout(\n",
    "    xaxis_title=\"Price ($)\",\n",
    "    yaxis_title=\"Product Category\",\n",
    "    title_x=0.5,  # Center plot title\n",
    "    font=dict(family=\"Arial\", size=12, color=\"white\")\n",
    ");"
   ]
  },
  {
   "cell_type": "markdown",
   "id": "b29523eb",
   "metadata": {},
   "source": [
    "### Product Count Distribution Across Price Ranges by Category (Log Scale)"
   ]
  },
  {
   "cell_type": "code",
   "execution_count": 28,
   "id": "88f1b775",
   "metadata": {},
   "outputs": [],
   "source": [
    "# Categorize product prices into defined ranges for segmentation analysis\n",
    "df = df_variants[[\"main_category\", \"price\"]].copy()\n",
    "bins = [0, 15, 30, 50, 75, 100, float(\"inf\")]\n",
    "labels = [\"<15\", \"15-30\", \"30-50\", \"50-75\", \"75-100\", \">100\"]\n",
    "df[\"price_range\"] = pd.cut(df[\"price\"], bins=bins, labels=labels, right=False)\n",
    "\n",
    "# Calculate count of products in each price range within each main category\n",
    "df = df.groupby([\"main_category\", \"price_range\"], observed=True).size().reset_index(name=\"count\")\n",
    "# Visualize price distribution across categories using a grouped bar chart with log scale\n",
    "fig = px.bar(df, x = \"main_category\", y = \"count\", log_y=True, color = \"price_range\", color_discrete_sequence=earth_palette, barmode=\"group\", title=\"Product Count Distribution Across Price Bins by Category (Log Scale)\")\n",
    "\n",
    "fig = plot_preset(fig)\n",
    "fig.update_layout(\n",
    "    xaxis_title = \"Product Category\",\n",
    "    yaxis_title = \"Product Amount\",\n",
    "    yaxis_tickvals = [\"1\", \"3\", \"10\", \"25\", \"50\", \"100\", \"200\", \"500\", \"1000\"]\n",
    ");"
   ]
  }
 ],
 "metadata": {
  "kernelspec": {
   "display_name": ".venv",
   "language": "python",
   "name": "python3"
  },
  "language_info": {
   "codemirror_mode": {
    "name": "ipython",
    "version": 3
   },
   "file_extension": ".py",
   "mimetype": "text/x-python",
   "name": "python",
   "nbconvert_exporter": "python",
   "pygments_lexer": "ipython3",
   "version": "3.13.5"
  }
 },
 "nbformat": 4,
 "nbformat_minor": 5
}
